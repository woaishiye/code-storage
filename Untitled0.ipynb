{
  "nbformat": 4,
  "nbformat_minor": 0,
  "metadata": {
    "colab": {
      "name": "Untitled0.ipynb",
      "version": "0.3.2",
      "provenance": [],
      "include_colab_link": true
    },
    "kernelspec": {
      "name": "python3",
      "display_name": "Python 3"
    }
  },
  "cells": [
    {
      "cell_type": "markdown",
      "metadata": {
        "id": "view-in-github",
        "colab_type": "text"
      },
      "source": [
        "<a href=\"https://colab.research.google.com/github/woaishiye/code-storage/blob/master/Untitled0.ipynb\" target=\"_parent\"><img src=\"https://colab.research.google.com/assets/colab-badge.svg\" alt=\"Open In Colab\"/></a>"
      ]
    },
    {
      "metadata": {
        "id": "oSnwcFcy7dnl",
        "colab_type": "code",
        "colab": {}
      },
      "cell_type": "code",
      "source": [
        "import os\n",
        "import sys\n",
        "with open(\"1234.txt\",\"w\")as f1:\n",
        "  f1.write(\"Block\"+\"\\t\"+\"Chromesome\"+\"\\t\"+\"Position\"+\"\\t\"+\"Distance\")\n",
        "  f1.write(\"\\n\")\n",
        "  for i in range(10):\n",
        "    f1.write(\"123\"+\"\\t\"+\"456\"+\"\\t\"+\"789\"+\"\\t\"+\"890\")\n",
        "    f1.write(\"\\n\")"
      ],
      "execution_count": 0,
      "outputs": []
    }
  ]
}